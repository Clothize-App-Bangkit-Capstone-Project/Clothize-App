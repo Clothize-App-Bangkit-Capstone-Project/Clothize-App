{
 "cells": [
  {
   "cell_type": "code",
   "execution_count": 1,
   "metadata": {},
   "outputs": [],
   "source": [
    "import pandas as pd\n",
    "import tensorflow as tf\n",
    "import numpy as np\n",
    "from sklearn.preprocessing import LabelEncoder\n",
    "from keras.utils import to_categorical\n",
    "from sklearn.model_selection import train_test_split\n",
    "from sklearn.preprocessing import MinMaxScaler"
   ]
  },
  {
   "cell_type": "markdown",
   "metadata": {},
   "source": [
    "# Data Preprocessing"
   ]
  },
  {
   "cell_type": "code",
   "execution_count": 2,
   "metadata": {},
   "outputs": [],
   "source": [
    "df = pd.read_csv('dataset3.csv')\n",
    "df.dropna(inplace=True)"
   ]
  },
  {
   "cell_type": "code",
   "execution_count": 3,
   "metadata": {},
   "outputs": [],
   "source": [
    "label = ['L', 'M', 'S', 'XL', 'XXL', 'XXXL']"
   ]
  },
  {
   "cell_type": "code",
   "execution_count": 5,
   "metadata": {},
   "outputs": [],
   "source": [
    "clothes = df[df['size'] != 'XXS'].copy()\n",
    "clothes.dropna(how='any', inplace=True)"
   ]
  },
  {
   "cell_type": "code",
   "execution_count": 6,
   "metadata": {},
   "outputs": [],
   "source": [
    "max_w = clothes['weight'].max()\n",
    "max_h = clothes['height'].max()"
   ]
  },
  {
   "cell_type": "code",
   "execution_count": 7,
   "metadata": {},
   "outputs": [],
   "source": [
    "clothes['weight'] = clothes['weight'] / max_w\n",
    "clothes['height'] = clothes['height'] / max_h"
   ]
  },
  {
   "cell_type": "code",
   "execution_count": 8,
   "metadata": {},
   "outputs": [
    {
     "data": {
      "text/html": [
       "<div>\n",
       "<style scoped>\n",
       "    .dataframe tbody tr th:only-of-type {\n",
       "        vertical-align: middle;\n",
       "    }\n",
       "\n",
       "    .dataframe tbody tr th {\n",
       "        vertical-align: top;\n",
       "    }\n",
       "\n",
       "    .dataframe thead th {\n",
       "        text-align: right;\n",
       "    }\n",
       "</style>\n",
       "<table border=\"1\" class=\"dataframe\">\n",
       "  <thead>\n",
       "    <tr style=\"text-align: right;\">\n",
       "      <th></th>\n",
       "      <th>weight</th>\n",
       "      <th>height</th>\n",
       "      <th>size</th>\n",
       "    </tr>\n",
       "  </thead>\n",
       "  <tbody>\n",
       "    <tr>\n",
       "      <th>0</th>\n",
       "      <td>0.683333</td>\n",
       "      <td>0.775</td>\n",
       "      <td>L</td>\n",
       "    </tr>\n",
       "    <tr>\n",
       "      <th>1</th>\n",
       "      <td>0.866667</td>\n",
       "      <td>0.970</td>\n",
       "      <td>XXXL</td>\n",
       "    </tr>\n",
       "    <tr>\n",
       "      <th>2</th>\n",
       "      <td>0.708333</td>\n",
       "      <td>0.775</td>\n",
       "      <td>L</td>\n",
       "    </tr>\n",
       "    <tr>\n",
       "      <th>3</th>\n",
       "      <td>0.725000</td>\n",
       "      <td>0.855</td>\n",
       "      <td>XL</td>\n",
       "    </tr>\n",
       "    <tr>\n",
       "      <th>4</th>\n",
       "      <td>0.466667</td>\n",
       "      <td>0.795</td>\n",
       "      <td>S</td>\n",
       "    </tr>\n",
       "    <tr>\n",
       "      <th>...</th>\n",
       "      <td>...</td>\n",
       "      <td>...</td>\n",
       "      <td>...</td>\n",
       "    </tr>\n",
       "    <tr>\n",
       "      <th>128652</th>\n",
       "      <td>0.616667</td>\n",
       "      <td>0.785</td>\n",
       "      <td>M</td>\n",
       "    </tr>\n",
       "    <tr>\n",
       "      <th>128653</th>\n",
       "      <td>0.750000</td>\n",
       "      <td>0.835</td>\n",
       "      <td>XL</td>\n",
       "    </tr>\n",
       "    <tr>\n",
       "      <th>128654</th>\n",
       "      <td>0.608333</td>\n",
       "      <td>0.815</td>\n",
       "      <td>M</td>\n",
       "    </tr>\n",
       "    <tr>\n",
       "      <th>128655</th>\n",
       "      <td>0.641667</td>\n",
       "      <td>0.795</td>\n",
       "      <td>L</td>\n",
       "    </tr>\n",
       "    <tr>\n",
       "      <th>128656</th>\n",
       "      <td>0.750000</td>\n",
       "      <td>0.900</td>\n",
       "      <td>XL</td>\n",
       "    </tr>\n",
       "  </tbody>\n",
       "</table>\n",
       "<p>118693 rows × 3 columns</p>\n",
       "</div>"
      ],
      "text/plain": [
       "          weight  height  size\n",
       "0       0.683333   0.775     L\n",
       "1       0.866667   0.970  XXXL\n",
       "2       0.708333   0.775     L\n",
       "3       0.725000   0.855    XL\n",
       "4       0.466667   0.795     S\n",
       "...          ...     ...   ...\n",
       "128652  0.616667   0.785     M\n",
       "128653  0.750000   0.835    XL\n",
       "128654  0.608333   0.815     M\n",
       "128655  0.641667   0.795     L\n",
       "128656  0.750000   0.900    XL\n",
       "\n",
       "[118693 rows x 3 columns]"
      ]
     },
     "execution_count": 8,
     "metadata": {},
     "output_type": "execute_result"
    }
   ],
   "source": [
    "clothes"
   ]
  },
  {
   "cell_type": "code",
   "execution_count": 9,
   "metadata": {},
   "outputs": [
    {
     "data": {
      "text/plain": [
       "size\n",
       "M       29712\n",
       "S       21924\n",
       "XXXL    21359\n",
       "XL      19119\n",
       "L       17587\n",
       "XXL      8992\n",
       "Name: count, dtype: int64"
      ]
     },
     "execution_count": 9,
     "metadata": {},
     "output_type": "execute_result"
    }
   ],
   "source": [
    "clothes['size'].value_counts()"
   ]
  },
  {
   "cell_type": "code",
   "execution_count": 10,
   "metadata": {},
   "outputs": [],
   "source": [
    "x = clothes.drop('size',axis=1).values\n",
    "y = clothes['size'].values"
   ]
  },
  {
   "cell_type": "code",
   "execution_count": 10,
   "metadata": {},
   "outputs": [
    {
     "data": {
      "text/plain": [
       "'XL'"
      ]
     },
     "execution_count": 10,
     "metadata": {},
     "output_type": "execute_result"
    }
   ],
   "source": [
    "y[0]"
   ]
  },
  {
   "cell_type": "code",
   "execution_count": 11,
   "metadata": {},
   "outputs": [],
   "source": [
    "encoder = LabelEncoder()\n",
    "y_encoded = encoder.fit_transform(y)\n",
    "y_encoded = to_categorical(y_encoded)"
   ]
  },
  {
   "cell_type": "code",
   "execution_count": 8,
   "metadata": {},
   "outputs": [
    {
     "data": {
      "text/plain": [
       "array([[0., 0., 0., 1.],\n",
       "       [1., 0., 0., 0.],\n",
       "       [0., 1., 0., 0.],\n",
       "       ...,\n",
       "       [0., 1., 0., 0.],\n",
       "       [0., 0., 0., 1.],\n",
       "       [0., 0., 0., 1.]], dtype=float32)"
      ]
     },
     "execution_count": 8,
     "metadata": {},
     "output_type": "execute_result"
    }
   ],
   "source": [
    "y_encoded"
   ]
  },
  {
   "cell_type": "markdown",
   "metadata": {},
   "source": [
    "# Data Splitting and Normalization"
   ]
  },
  {
   "cell_type": "code",
   "execution_count": 12,
   "metadata": {},
   "outputs": [],
   "source": [
    "x_train,x_test,y_train,y_test = train_test_split(x,y_encoded,test_size=0.2,random_state = 30)"
   ]
  },
  {
   "cell_type": "code",
   "execution_count": 17,
   "metadata": {},
   "outputs": [
    {
     "data": {
      "text/plain": [
       "array([0.97826087, 0.93684211])"
      ]
     },
     "execution_count": 17,
     "metadata": {},
     "output_type": "execute_result"
    }
   ],
   "source": [
    "x_train[0]"
   ]
  },
  {
   "cell_type": "markdown",
   "metadata": {},
   "source": [
    "# Model Building"
   ]
  },
  {
   "cell_type": "code",
   "execution_count": 15,
   "metadata": {},
   "outputs": [
    {
     "name": "stdout",
     "output_type": "stream",
     "text": [
      "Model: \"sequential_1\"\n",
      "_________________________________________________________________\n",
      " Layer (type)                Output Shape              Param #   \n",
      "=================================================================\n",
      " flatten_1 (Flatten)         (None, 2)                 0         \n",
      "                                                                 \n",
      " dense_2 (Dense)             (None, 32)                96        \n",
      "                                                                 \n",
      " dense_3 (Dense)             (None, 6)                 198       \n",
      "                                                                 \n",
      "=================================================================\n",
      "Total params: 294 (1.15 KB)\n",
      "Trainable params: 294 (1.15 KB)\n",
      "Non-trainable params: 0 (0.00 Byte)\n",
      "_________________________________________________________________\n"
     ]
    }
   ],
   "source": [
    "model = tf.keras.models.Sequential([\n",
    "    tf.keras.layers.Flatten(input_shape=[2]),\n",
    "    tf.keras.layers.Dense(32, activation=\"relu\"),\n",
    "    tf.keras.layers.Dense(6, activation=\"softmax\")\n",
    "])\n",
    "\n",
    "model.compile(loss='categorical_crossentropy', optimizer='adam', metrics=['accuracy'])\n",
    "model.summary()"
   ]
  },
  {
   "cell_type": "code",
   "execution_count": 16,
   "metadata": {},
   "outputs": [
    {
     "name": "stdout",
     "output_type": "stream",
     "text": [
      "Epoch 1/10\n",
      "2968/2968 [==============================] - 5s 1ms/step - loss: 1.1874 - accuracy: 0.6101 - val_loss: 0.7491 - val_accuracy: 0.7863\n",
      "Epoch 2/10\n",
      "2968/2968 [==============================] - 4s 1ms/step - loss: 0.5787 - accuracy: 0.8412 - val_loss: 0.4554 - val_accuracy: 0.8808\n",
      "Epoch 3/10\n",
      "2968/2968 [==============================] - 4s 1ms/step - loss: 0.3852 - accuracy: 0.9045 - val_loss: 0.3260 - val_accuracy: 0.9245\n",
      "Epoch 4/10\n",
      "2968/2968 [==============================] - 4s 1ms/step - loss: 0.2864 - accuracy: 0.9471 - val_loss: 0.2524 - val_accuracy: 0.9631\n",
      "Epoch 5/10\n",
      "2968/2968 [==============================] - 4s 1ms/step - loss: 0.2264 - accuracy: 0.9634 - val_loss: 0.2054 - val_accuracy: 0.9625\n",
      "Epoch 6/10\n",
      "2968/2968 [==============================] - 4s 1ms/step - loss: 0.1869 - accuracy: 0.9722 - val_loss: 0.1719 - val_accuracy: 0.9690\n",
      "Epoch 7/10\n",
      "2968/2968 [==============================] - 4s 1ms/step - loss: 0.1597 - accuracy: 0.9777 - val_loss: 0.1496 - val_accuracy: 0.9662\n",
      "Epoch 8/10\n",
      "2968/2968 [==============================] - 4s 1ms/step - loss: 0.1396 - accuracy: 0.9802 - val_loss: 0.1313 - val_accuracy: 0.9827\n",
      "Epoch 9/10\n",
      "2968/2968 [==============================] - 4s 1ms/step - loss: 0.1244 - accuracy: 0.9828 - val_loss: 0.1182 - val_accuracy: 0.9855\n",
      "Epoch 10/10\n",
      "2968/2968 [==============================] - 4s 1ms/step - loss: 0.1126 - accuracy: 0.9844 - val_loss: 0.1074 - val_accuracy: 0.9879\n"
     ]
    },
    {
     "data": {
      "text/plain": [
       "<keras.src.callbacks.History at 0x2bce5677bd0>"
      ]
     },
     "execution_count": 16,
     "metadata": {},
     "output_type": "execute_result"
    }
   ],
   "source": [
    "model.fit(x_train, y_train,validation_data=(x_test, y_test), epochs=10)"
   ]
  },
  {
   "cell_type": "markdown",
   "metadata": {},
   "source": [
    "# Making Predictions"
   ]
  },
  {
   "cell_type": "code",
   "execution_count": 20,
   "metadata": {},
   "outputs": [
    {
     "name": "stdout",
     "output_type": "stream",
     "text": [
      "1/1 [==============================] - 0s 42ms/step\n",
      "Ukuran Rekomendasi :  XL 0.7199005\n"
     ]
    }
   ],
   "source": [
    "data = [[85,172]]\n",
    "data[0][0] = data[0][0] / max_w\n",
    "data[0][1] = data[0][1] / max_h\n",
    "# print(data)\n",
    "\n",
    "pred = model.predict(data)\n",
    "print('Ukuran Rekomendasi : ', label[np.argmax(pred)], np.max(pred))\n",
    "\n",
    "# result = labelizer(pred)\n",
    "# print(result)"
   ]
  }
 ],
 "metadata": {
  "kernelspec": {
   "display_name": "Python 3",
   "language": "python",
   "name": "python3"
  },
  "language_info": {
   "codemirror_mode": {
    "name": "ipython",
    "version": 3
   },
   "file_extension": ".py",
   "mimetype": "text/x-python",
   "name": "python",
   "nbconvert_exporter": "python",
   "pygments_lexer": "ipython3",
   "version": "3.11.6"
  }
 },
 "nbformat": 4,
 "nbformat_minor": 2
}
